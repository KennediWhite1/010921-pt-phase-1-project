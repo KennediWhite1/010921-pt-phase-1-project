{
 "cells": [
  {
   "cell_type": "markdown",
   "metadata": {},
   "source": [
    "![example](images/director_shot.jpeg)"
   ]
  },
  {
   "cell_type": "markdown",
   "metadata": {},
   "source": [
    "## Title\n",
    "\n",
    "Movie Analysis  \n",
    "\n",
    "Kennedi White "
   ]
  },
  {
   "cell_type": "markdown",
   "metadata": {},
   "source": [
    "## Overview\n",
    "\n",
    "Movies are an important part of our everyday life and we seek them out for enjoyment and fulfillment, but what makes a successful movie? The business problems is that Microsoft needs us to help familiarize them with the film industry, and provide recommendations to get them started in creating successful movies. We take a deeper look into the highest average ratings per movie, the top rated movies overall and the number of ratings to see if there are any correlations or comparisons we can obtain. This analysis will give Microsoft a better picture into what movies are doing well and draw insights into potential reason why. The data used to help provide insight into this business problems was imported pandas as pd, and the three files: \n",
    "1.df = pd.read_csv('data/zippedData/imdb.title.basics.csv.gz\n",
    "2.df2 = pd.read_csv('data/zippedData/imdb.title.ratings.csv.gz\n",
    "3.df3 = pd.read_csv('data/zippedData/bom.movie_gross.csv.gz\n",
    "\n",
    "The methods used are importing pandas and required dataframes used for analysis, merging of data frames on common and unique identifiers, as well as visual representations of histograms, descriptive statistics and correlation plots for insight.  "
   ]
  },
  {
   "cell_type": "markdown",
   "metadata": {},
   "source": [
    "## Business Problem\n",
    "\n",
    "\n",
    "1. What company strategy/ies should Microsoft focus on to create successful movies?\n",
    "If Microsoft can focus on the most important strategy from the beginning in creating a successful movie, this will set the company up in a more profitable position now and moving forward. \n",
    "\n",
    "In order to solve this problem we will look into the most critical variables in determining the success of a movie: average ratings, number of votes and gross income (domestic and international). \n",
    "\n",
    "\n",
    "What makes a movie most profitable?\n",
    "How important are critic ratings to the success of a movie?\n",
    "What are some comparisons that can be made between top rating movies?\n"
   ]
  },
  {
   "cell_type": "markdown",
   "metadata": {},
   "source": [
    "## Data Understanding\n",
    "\n",
    "The data came from the specific files: \n",
    "1.df = pd.read_csv('data/zippedData/imdb.title.basics.csv.gz\n",
    "2.df2 = pd.read_csv('data/zippedData/imdb.title.ratings.csv.gz\n",
    "3.df3 = pd.read_csv('data/zippedData/bom.movie_gross.csv.gz\n",
    "\n",
    "They relate to the data analysis questions because all of them provide insight into what important strategies the company needs to look into and implement to make a successful movie or bring a successful movie to fruition. The data represents critical variables for analysis such as: primary title, average rating, num votes and gross income (domestic and international) that was receieved for each production. I believe the target variable can't be singled down to one as all are working together in some capactity to create a successful movie; however, I do believe average rating is the most important variable. As it is seen in analysis, that the movies with higher average rating made more money gross income overall and were the most profitable. Now, what aided the average rating has greatly to do with marketing and advertising and what movies are in the limelight for critics to reviews, and nevertheless are recommended to the audience more quickly than movies with lower ratings.\n",
    "\n"
   ]
  },
  {
   "cell_type": "code",
   "execution_count": 1,
   "metadata": {},
   "outputs": [],
   "source": [
    "import pandas as pd\n",
    "import matplotlib.pyplot as plt"
   ]
  },
  {
   "cell_type": "code",
   "execution_count": 6,
   "metadata": {},
   "outputs": [
    {
     "name": "stdout",
     "output_type": "stream",
     "text": [
      "bom.movie_gross.csv.gz                imdb.title.ratings.csv.gz\r\n",
      "imdb.name.basics.csv.gz               rotten_tomatoes_critic_reviews.csv.gz\r\n",
      "imdb.title.akas.csv.gz                rotten_tomatoes_movies.csv.gz\r\n",
      "imdb.title.basics.csv.gz              tmdb.movies.csv.gz\r\n",
      "imdb.title.crew.csv.gz                tn.movie_budgets.csv.gz\r\n",
      "imdb.title.principals.csv.gz\r\n"
     ]
    },
    {
     "ename": "NameError",
     "evalue": "name 'pd' is not defined",
     "output_type": "error",
     "traceback": [
      "\u001b[0;31m---------------------------------------------------------------------------\u001b[0m",
      "\u001b[0;31mNameError\u001b[0m                                 Traceback (most recent call last)",
      "\u001b[0;32m<ipython-input-6-9d30d4a2b854>\u001b[0m in \u001b[0;36m<module>\u001b[0;34m\u001b[0m\n\u001b[1;32m      1\u001b[0m \u001b[0mget_ipython\u001b[0m\u001b[0;34m(\u001b[0m\u001b[0;34m)\u001b[0m\u001b[0;34m.\u001b[0m\u001b[0msystem\u001b[0m\u001b[0;34m(\u001b[0m\u001b[0;34m'ls data/zippedData'\u001b[0m\u001b[0;34m)\u001b[0m\u001b[0;34m\u001b[0m\u001b[0;34m\u001b[0m\u001b[0m\n\u001b[0;32m----> 2\u001b[0;31m \u001b[0mdf\u001b[0m \u001b[0;34m=\u001b[0m \u001b[0mpd\u001b[0m\u001b[0;34m.\u001b[0m\u001b[0mread_csv\u001b[0m\u001b[0;34m(\u001b[0m\u001b[0;34m'data/zippedData/imdb.title.basics.csv.gz'\u001b[0m\u001b[0;34m)\u001b[0m\u001b[0;34m\u001b[0m\u001b[0;34m\u001b[0m\u001b[0m\n\u001b[0m\u001b[1;32m      3\u001b[0m \u001b[0mdf2\u001b[0m \u001b[0;34m=\u001b[0m \u001b[0mpd\u001b[0m\u001b[0;34m.\u001b[0m\u001b[0mread_csv\u001b[0m\u001b[0;34m(\u001b[0m\u001b[0;34m'data/zippedData/imdb.title.ratings.csv.gz'\u001b[0m\u001b[0;34m)\u001b[0m\u001b[0;34m\u001b[0m\u001b[0;34m\u001b[0m\u001b[0m\n\u001b[1;32m      4\u001b[0m \u001b[0mdf3\u001b[0m \u001b[0;34m=\u001b[0m \u001b[0mpd\u001b[0m\u001b[0;34m.\u001b[0m\u001b[0mread_csv\u001b[0m\u001b[0;34m(\u001b[0m\u001b[0;34m'data/zippedData/bom.movie_gross.csv.gz'\u001b[0m\u001b[0;34m)\u001b[0m\u001b[0;34m\u001b[0m\u001b[0;34m\u001b[0m\u001b[0m\n",
      "\u001b[0;31mNameError\u001b[0m: name 'pd' is not defined"
     ]
    }
   ],
   "source": [
    "!ls data/zippedData\n",
    "df = pd.read_csv('data/zippedData/imdb.title.basics.csv.gz') \n",
    "df2 = pd.read_csv('data/zippedData/imdb.title.ratings.csv.gz')\n",
    "df3 = pd.read_csv('data/zippedData/bom.movie_gross.csv.gz')\n",
    "\n",
    "merge_df = df.merge(df2, how = 'right', left_index = True, right_index = True)\n",
    "merge_df = merge_df.merge(df3, how = 'right', left_on = 'primary_title', right_on = 'title')\n",
    "\n",
    "merge_df.info()\n"
   ]
  },
  {
   "cell_type": "markdown",
   "metadata": {},
   "source": [
    "## Data Preparation\n",
    "\n",
    "I prepared the data by importing it with pandas. Then I decided to look for unique identifiers in the data such as tconst and primary_title that could be used to merge the dataframes. I merged all three dataframes I used for this analysis. As I began to merge the dataframes, it became apparent that there was missing information and Nan values in some areas of the datasets. In order to make sure that the data had less outliers and missing data, I deleted a few columns that were showing high Nan values to keep the data cleaner, and did this by utilizing the dropna function. I dropped runtimes due to a great number of Nan values in the data set. I did not create any new variables. \n"
   ]
  },
  {
   "cell_type": "code",
   "execution_count": 2,
   "metadata": {},
   "outputs": [
    {
     "ename": "NameError",
     "evalue": "name 'merge_df' is not defined",
     "output_type": "error",
     "traceback": [
      "\u001b[0;31m---------------------------------------------------------------------------\u001b[0m",
      "\u001b[0;31mNameError\u001b[0m                                 Traceback (most recent call last)",
      "\u001b[0;32m<ipython-input-2-0a83cc3a1097>\u001b[0m in \u001b[0;36m<module>\u001b[0;34m\u001b[0m\n\u001b[0;32m----> 1\u001b[0;31m \u001b[0mmerge_df\u001b[0m\u001b[0;34m.\u001b[0m\u001b[0mdropna\u001b[0m\u001b[0;34m(\u001b[0m\u001b[0maxis\u001b[0m \u001b[0;34m=\u001b[0m \u001b[0;36m0\u001b[0m\u001b[0;34m,\u001b[0m \u001b[0minplace\u001b[0m \u001b[0;34m=\u001b[0m \u001b[0;32mTrue\u001b[0m\u001b[0;34m)\u001b[0m\u001b[0;34m\u001b[0m\u001b[0;34m\u001b[0m\u001b[0m\n\u001b[0m\u001b[1;32m      2\u001b[0m \u001b[0mmerge_df\u001b[0m\u001b[0;34m\u001b[0m\u001b[0;34m\u001b[0m\u001b[0m\n",
      "\u001b[0;31mNameError\u001b[0m: name 'merge_df' is not defined"
     ]
    }
   ],
   "source": [
    "from collections import defaultdict\n",
    "d = defaultdict(lambda: 0)\n",
    "for v in merge_df['foreign_gross']:\n",
    "    d[type(v)] += 1\n",
    "print(d)\n",
    "\n",
    "merge_df = merge_df[['primary_title', 'averagerating', 'numvotes', 'domestic_gross', 'foreign_gross']]\n",
    "merge_df['foreign_gross'] = merge_df['foreign_gross'].transform(lambda x : float(str(x).replace(',','')))\n",
    "merge_df['gross'] = merge_df ['domestic_gross'] + merge_df ['foreign_gross']\n",
    "merge_df.drop(['domestic_gross','foreign_gross'], axis = 1, inplace = True) "
   ]
  },
  {
   "cell_type": "markdown",
   "metadata": {},
   "source": [
    "## Data Modeling\n",
    "\n",
    "Once the data was clean, I modeled the data by merging data sets, ensuring that non-null count was in similar range, I began to analyze the merged data sets and pull specific columns with functions such as booelan_ array and .loc. Visualizing key data and columns in order pull insights and make comparisons between certain variables. \n",
    "\n",
    "This approach is appropriate given the data and the business problem: What core strategy/ies should Microsoft focus on to make a successful movie? We are looking into the most important indicators of a successful movie and the most appropriate data, any huge outliers or missing data will misconstrue the data. Therefore, they were removed or disregarded in the analysis. Once this was compelete, the varibales left in the finalized data model were primary_title, averagerating, numvotes and gross.  \n",
    "\n"
   ]
  },
  {
   "cell_type": "code",
   "execution_count": null,
   "metadata": {},
   "outputs": [],
   "source": [
    "merge_df.dropna(axis = 0, inplace = True)\n",
    "merge_df\n",
    "\n",
    "merge_df.describe() #to describe the model created \n"
   ]
  },
  {
   "cell_type": "code",
   "execution_count": null,
   "metadata": {},
   "outputs": [],
   "source": [
    "merge_df['averagerating'].plot.hist()"
   ]
  },
  {
   "cell_type": "code",
   "execution_count": null,
   "metadata": {},
   "outputs": [],
   "source": [
    "bool_array= merge_df['averagerating']>=6.5\n",
    "bool_array\n",
    "\n",
    "#Taking a deep look into the movies that were the highest rated. Went into an in depth analysis into this top \n",
    "#rated movies to see if there were any possibly comparisons that could be made. When comparing the top movies it seems like many of them have \n",
    "#an element of action or drama in the top movies list. \n",
    "\n",
    "#Recommendation 1: Microsoft may want to take a deeper dive into its market research strategy when targeting to \n",
    "#consumers and inceasing their liklihood of creating a successful movie and acquiring more profitability. \n"
   ]
  },
  {
   "cell_type": "code",
   "execution_count": null,
   "metadata": {},
   "outputs": [],
   "source": [
    "top_ratings= merge_df[bool_array]['primary_title']\n",
    "top_movies = df[df['primary_title'].isin(top_ratings)]\n",
    "top_movies_wrate= top_movies.merge(merge_df, how = 'left', on = 'primary_title')\n",
    "top_movies_wrate"
   ]
  },
  {
   "cell_type": "code",
   "execution_count": null,
   "metadata": {},
   "outputs": [],
   "source": [
    "top_movies['start_year'].mean()  #average start year that top movies were released. \n",
    "#the most successful movies in our data were released at average in the earlier 2000's. \n",
    "# Recommendation 2: What were older movies doing that differently, and perhaps better?\n",
    "#That is something that Microsoft can look into and take inspiration from. The company must create a solid\n",
    "#Competitiors SWOT analysis before entering into the market in order to be successful.\n",
    "#The  movie market earlier in earlier years, in 2013, specifically, what were potential competitors doing differently\n",
    "#Are they still using these methods or key strategies to pull in consumers, success and profitability?\n",
    "#In 2013, there was emphasis on independent financiers and \n",
    "#rising financial interest in \"prestige\" of Hollywood movies. The company should have benchmarks with top film years\n",
    "#pull insights and adapt according. \n",
    "2013.8052256532067"
   ]
  },
  {
   "cell_type": "code",
   "execution_count": null,
   "metadata": {},
   "outputs": [],
   "source": [
    "plt.matshow(merge_df.corr()) #depicts a correlation between used variables (high and low correlations)\n",
    "#shows that the more critics and people are talking and rating (average ratings) the movie the more likely it will be profitable\n",
    "#and successful (gross income), even if it is not all that good in the end run. \n",
    "#Microsoft must focus its attention on its promotional strategy\n",
    "#along with how it will reach out and target critics for its movies. It is confimred to be critical in there success\n",
    "#even if the movie is not the best. \n",
    "\n"
   ]
  },
  {
   "cell_type": "code",
   "execution_count": null,
   "metadata": {},
   "outputs": [],
   "source": [
    "fig, ax = plt.subplots()\n",
    "ax.scatter(top_movies_wrate['start_year'],top_movies_wrate['numvotes']) #depicts a scatter plot \n",
    "\n",
    "#There between start year and num votes. Start year = x axis, num_ratings = y axis. This shows some insight into\n",
    "#when a movie started and the number of votes it got. It looks as if in 2010 there were more people voting as oppose\n",
    "#to 2019. Ultimately, the question is, is the longer a movie is out does it get more ratings? Or are we just\n",
    "#missing data for 2019. In that case, Microsoft should understand that older movies as well as newer ones\n",
    "#make a big impact on number of votes and profitability. Therefore, the focus should be on making target audiences,\n",
    "# making top tier movies\n",
    "#that can have a long lasting effect on their audience, in plot, story telling and other key strategies. With more\n",
    "#votes are better movies. Focus on the number of votes as it is more correlated to how much a movie can make as well\n",
    "#Additionally, in the dadta above sometimes in the data the movie can have a lower rating but because the number of votes are good the movie makes\n",
    "#a solid gross income. "
   ]
  },
  {
   "cell_type": "markdown",
   "metadata": {},
   "source": [
    "## Evaluation\n",
    "I believe that my work solves the stated problem: What company strategy/ies should Microsoft focus on to create successful movies? \n",
    "\n",
    "The analysis provides some insight into potential strategies and angles Microsoft can take in its approach. Furthermore, making a successful movies depends on many variables, and some are more correlated to one another than others. The company must focus on a strong enter the market strategy, a competitor analysis ranging from earlier benchmarks until 2019. Furthermore, regardless whether a movies is the best or not realistically, it will become successful and profitable if there are more people talking about it, critics rating it and a larger number of votes. It is key to have a solid promotional strategy that targets not only the audience of the movie but critics. These insights would benefit the business when analyzed and put to use. \n"
   ]
  },
  {
   "cell_type": "markdown",
   "metadata": {},
   "source": [
    "## Conclusions\n",
    "\n",
    "I recommend the business hire the best marketing and business professionals. Along with the data scientist, the company will be able to strategize and create a strong footprint and mark in film industry from early on. By focusing on the strategies that ultimately lead to a successful movies. Despite other potential factors and influences, those variables are average rating, num votes, and start time. They have an impact on a movies ability to succeed and make strong domestic and foreign gross income. My analysis might not fully answer the problem because there are many other variables to consider to answer this business problem/question. In order to improve this and the company's know-how in the future we would have to explore more variables and more year by year data, along with keeping up with film industry trends. \n",
    "\n",
    "\n",
    "For more information, contact me at kennedi.white53@gmail.com. "
   ]
  }
 ],
 "metadata": {
  "kernelspec": {
   "display_name": "Python 3",
   "language": "python",
   "name": "python3"
  },
  "language_info": {
   "codemirror_mode": {
    "name": "ipython",
    "version": 3
   },
   "file_extension": ".py",
   "mimetype": "text/x-python",
   "name": "python",
   "nbconvert_exporter": "python",
   "pygments_lexer": "ipython3",
   "version": "3.8.3"
  }
 },
 "nbformat": 4,
 "nbformat_minor": 4
}
