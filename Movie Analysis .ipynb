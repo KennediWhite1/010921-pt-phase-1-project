{
 "cells": [
  {
   "cell_type": "code",
   "execution_count": 71,
   "metadata": {},
   "outputs": [],
   "source": [
    "#This is a Jupyter notebook that analyzes important variables and insights into making a successful movie \n",
    "\n",
    "import pandas as pd\n",
    "import matplotlib.pyplot as plt"
   ]
  },
  {
   "cell_type": "code",
   "execution_count": 2,
   "metadata": {},
   "outputs": [
    {
     "name": "stdout",
     "output_type": "stream",
     "text": [
      "bom.movie_gross.csv.gz                imdb.title.ratings.csv.gz\r\n",
      "imdb.name.basics.csv.gz               rotten_tomatoes_critic_reviews.csv.gz\r\n",
      "imdb.title.akas.csv.gz                rotten_tomatoes_movies.csv.gz\r\n",
      "imdb.title.basics.csv.gz              tmdb.movies.csv.gz\r\n",
      "imdb.title.crew.csv.gz                tn.movie_budgets.csv.gz\r\n",
      "imdb.title.principals.csv.gz\r\n"
     ]
    }
   ],
   "source": [
    "!ls data/zippedData"
   ]
  },
  {
   "cell_type": "code",
   "execution_count": 25,
   "metadata": {},
   "outputs": [
    {
     "name": "stdout",
     "output_type": "stream",
     "text": [
      "<class 'pandas.core.frame.DataFrame'>\n",
      "Int64Index: 3815 entries, 0 to 3814\n",
      "Data columns (total 12 columns):\n",
      " #   Column           Non-Null Count  Dtype  \n",
      "---  ------           --------------  -----  \n",
      " 0   primary_title    3027 non-null   object \n",
      " 1   original_title   3027 non-null   object \n",
      " 2   start_year       3027 non-null   float64\n",
      " 3   runtime_minutes  2980 non-null   float64\n",
      " 4   genres           3020 non-null   object \n",
      " 5   averagerating    3027 non-null   float64\n",
      " 6   numvotes         3027 non-null   float64\n",
      " 7   title            3815 non-null   object \n",
      " 8   studio           3810 non-null   object \n",
      " 9   domestic_gross   3782 non-null   float64\n",
      " 10  foreign_gross    2311 non-null   object \n",
      " 11  year             3815 non-null   int64  \n",
      "dtypes: float64(5), int64(1), object(6)\n",
      "memory usage: 387.5+ KB\n"
     ]
    }
   ],
   "source": [
    "df = pd.read_csv('data/zippedData/imdb.title.basics.csv.gz', index_col = 'tconst') #data on titles of movies\n",
    "df2 = pd.read_csv('data/zippedData/imdb.title.ratings.csv.gz', index_col = 'tconst') #data on title and ratings\n",
    "df3 = pd.read_csv('data/zippedData/bom.movie_gross.csv.gz') #data on domestic and gross income of movies\n",
    "merge_df = df.merge(df2, how = 'right', left_index = True, right_index = True)\n",
    "merge_df = merge_df.merge(df3, how = 'right', left_on = 'primary_title', right_on = 'title') #mergeing of 3 df\n",
    "\n",
    "merge_df.info()"
   ]
  },
  {
   "cell_type": "raw",
   "metadata": {},
   "source": [
    "from collections import defaultdict\n",
    "d = defaultdict(lambda: 0)\n",
    "for v in merge_df['foreign_gross']:\n",
    "    d[type(v)] += 1\n",
    "print(d)"
   ]
  },
  {
   "cell_type": "code",
   "execution_count": 45,
   "metadata": {},
   "outputs": [
    {
     "ename": "KeyError",
     "evalue": "\"['domestic_gross', 'foreign_gross'] not in index\"",
     "output_type": "error",
     "traceback": [
      "\u001b[0;31m---------------------------------------------------------------------------\u001b[0m",
      "\u001b[0;31mKeyError\u001b[0m                                  Traceback (most recent call last)",
      "\u001b[0;32m<ipython-input-45-d4445d632940>\u001b[0m in \u001b[0;36m<module>\u001b[0;34m\u001b[0m\n\u001b[0;32m----> 1\u001b[0;31m \u001b[0mmerge_df\u001b[0m \u001b[0;34m=\u001b[0m \u001b[0mmerge_df\u001b[0m\u001b[0;34m[\u001b[0m\u001b[0;34m[\u001b[0m\u001b[0;34m'primary_title'\u001b[0m\u001b[0;34m,\u001b[0m \u001b[0;34m'averagerating'\u001b[0m\u001b[0;34m,\u001b[0m \u001b[0;34m'numvotes'\u001b[0m\u001b[0;34m,\u001b[0m \u001b[0;34m'domestic_gross'\u001b[0m\u001b[0;34m,\u001b[0m \u001b[0;34m'foreign_gross'\u001b[0m\u001b[0;34m]\u001b[0m\u001b[0;34m]\u001b[0m\u001b[0;34m\u001b[0m\u001b[0;34m\u001b[0m\u001b[0m\n\u001b[0m\u001b[1;32m      2\u001b[0m \u001b[0mmerge_df\u001b[0m\u001b[0;34m[\u001b[0m\u001b[0;34m'foreign_gross'\u001b[0m\u001b[0;34m]\u001b[0m \u001b[0;34m=\u001b[0m \u001b[0mmerge_df\u001b[0m\u001b[0;34m[\u001b[0m\u001b[0;34m'foreign_gross'\u001b[0m\u001b[0;34m]\u001b[0m\u001b[0;34m.\u001b[0m\u001b[0mtransform\u001b[0m\u001b[0;34m(\u001b[0m\u001b[0;32mlambda\u001b[0m \u001b[0mx\u001b[0m \u001b[0;34m:\u001b[0m \u001b[0mfloat\u001b[0m\u001b[0;34m(\u001b[0m\u001b[0mstr\u001b[0m\u001b[0;34m(\u001b[0m\u001b[0mx\u001b[0m\u001b[0;34m)\u001b[0m\u001b[0;34m.\u001b[0m\u001b[0mreplace\u001b[0m\u001b[0;34m(\u001b[0m\u001b[0;34m','\u001b[0m\u001b[0;34m,\u001b[0m\u001b[0;34m''\u001b[0m\u001b[0;34m)\u001b[0m\u001b[0;34m)\u001b[0m\u001b[0;34m)\u001b[0m\u001b[0;34m\u001b[0m\u001b[0;34m\u001b[0m\u001b[0m\n\u001b[1;32m      3\u001b[0m \u001b[0mmerge_df\u001b[0m\u001b[0;34m[\u001b[0m\u001b[0;34m'gross'\u001b[0m\u001b[0;34m]\u001b[0m \u001b[0;34m=\u001b[0m \u001b[0mmerge_df\u001b[0m \u001b[0;34m[\u001b[0m\u001b[0;34m'domestic_gross'\u001b[0m\u001b[0;34m]\u001b[0m \u001b[0;34m+\u001b[0m \u001b[0mmerge_df\u001b[0m \u001b[0;34m[\u001b[0m\u001b[0;34m'foreign_gross'\u001b[0m\u001b[0;34m]\u001b[0m\u001b[0;34m\u001b[0m\u001b[0;34m\u001b[0m\u001b[0m\n\u001b[1;32m      4\u001b[0m \u001b[0mmerge_df\u001b[0m\u001b[0;34m.\u001b[0m\u001b[0mdrop\u001b[0m\u001b[0;34m(\u001b[0m\u001b[0;34m[\u001b[0m\u001b[0;34m'domestic_gross'\u001b[0m\u001b[0;34m,\u001b[0m\u001b[0;34m'foreign_gross'\u001b[0m\u001b[0;34m]\u001b[0m\u001b[0;34m,\u001b[0m \u001b[0maxis\u001b[0m \u001b[0;34m=\u001b[0m \u001b[0;36m1\u001b[0m\u001b[0;34m,\u001b[0m \u001b[0minplace\u001b[0m \u001b[0;34m=\u001b[0m \u001b[0;32mTrue\u001b[0m\u001b[0;34m)\u001b[0m\u001b[0;34m\u001b[0m\u001b[0;34m\u001b[0m\u001b[0m\n\u001b[1;32m      5\u001b[0m \u001b[0mmerge_df\u001b[0m\u001b[0;34m\u001b[0m\u001b[0;34m\u001b[0m\u001b[0m\n",
      "\u001b[0;32m~/opt/anaconda3/lib/python3.8/site-packages/pandas/core/frame.py\u001b[0m in \u001b[0;36m__getitem__\u001b[0;34m(self, key)\u001b[0m\n\u001b[1;32m   2804\u001b[0m             \u001b[0;32mif\u001b[0m \u001b[0mis_iterator\u001b[0m\u001b[0;34m(\u001b[0m\u001b[0mkey\u001b[0m\u001b[0;34m)\u001b[0m\u001b[0;34m:\u001b[0m\u001b[0;34m\u001b[0m\u001b[0;34m\u001b[0m\u001b[0m\n\u001b[1;32m   2805\u001b[0m                 \u001b[0mkey\u001b[0m \u001b[0;34m=\u001b[0m \u001b[0mlist\u001b[0m\u001b[0;34m(\u001b[0m\u001b[0mkey\u001b[0m\u001b[0;34m)\u001b[0m\u001b[0;34m\u001b[0m\u001b[0;34m\u001b[0m\u001b[0m\n\u001b[0;32m-> 2806\u001b[0;31m             \u001b[0mindexer\u001b[0m \u001b[0;34m=\u001b[0m \u001b[0mself\u001b[0m\u001b[0;34m.\u001b[0m\u001b[0mloc\u001b[0m\u001b[0;34m.\u001b[0m\u001b[0m_get_listlike_indexer\u001b[0m\u001b[0;34m(\u001b[0m\u001b[0mkey\u001b[0m\u001b[0;34m,\u001b[0m \u001b[0maxis\u001b[0m\u001b[0;34m=\u001b[0m\u001b[0;36m1\u001b[0m\u001b[0;34m,\u001b[0m \u001b[0mraise_missing\u001b[0m\u001b[0;34m=\u001b[0m\u001b[0;32mTrue\u001b[0m\u001b[0;34m)\u001b[0m\u001b[0;34m[\u001b[0m\u001b[0;36m1\u001b[0m\u001b[0;34m]\u001b[0m\u001b[0;34m\u001b[0m\u001b[0;34m\u001b[0m\u001b[0m\n\u001b[0m\u001b[1;32m   2807\u001b[0m \u001b[0;34m\u001b[0m\u001b[0m\n\u001b[1;32m   2808\u001b[0m         \u001b[0;31m# take() does not accept boolean indexers\u001b[0m\u001b[0;34m\u001b[0m\u001b[0;34m\u001b[0m\u001b[0;34m\u001b[0m\u001b[0m\n",
      "\u001b[0;32m~/opt/anaconda3/lib/python3.8/site-packages/pandas/core/indexing.py\u001b[0m in \u001b[0;36m_get_listlike_indexer\u001b[0;34m(self, key, axis, raise_missing)\u001b[0m\n\u001b[1;32m   1550\u001b[0m             \u001b[0mkeyarr\u001b[0m\u001b[0;34m,\u001b[0m \u001b[0mindexer\u001b[0m\u001b[0;34m,\u001b[0m \u001b[0mnew_indexer\u001b[0m \u001b[0;34m=\u001b[0m \u001b[0max\u001b[0m\u001b[0;34m.\u001b[0m\u001b[0m_reindex_non_unique\u001b[0m\u001b[0;34m(\u001b[0m\u001b[0mkeyarr\u001b[0m\u001b[0;34m)\u001b[0m\u001b[0;34m\u001b[0m\u001b[0;34m\u001b[0m\u001b[0m\n\u001b[1;32m   1551\u001b[0m \u001b[0;34m\u001b[0m\u001b[0m\n\u001b[0;32m-> 1552\u001b[0;31m         self._validate_read_indexer(\n\u001b[0m\u001b[1;32m   1553\u001b[0m             \u001b[0mkeyarr\u001b[0m\u001b[0;34m,\u001b[0m \u001b[0mindexer\u001b[0m\u001b[0;34m,\u001b[0m \u001b[0mo\u001b[0m\u001b[0;34m.\u001b[0m\u001b[0m_get_axis_number\u001b[0m\u001b[0;34m(\u001b[0m\u001b[0maxis\u001b[0m\u001b[0;34m)\u001b[0m\u001b[0;34m,\u001b[0m \u001b[0mraise_missing\u001b[0m\u001b[0;34m=\u001b[0m\u001b[0mraise_missing\u001b[0m\u001b[0;34m\u001b[0m\u001b[0;34m\u001b[0m\u001b[0m\n\u001b[1;32m   1554\u001b[0m         )\n",
      "\u001b[0;32m~/opt/anaconda3/lib/python3.8/site-packages/pandas/core/indexing.py\u001b[0m in \u001b[0;36m_validate_read_indexer\u001b[0;34m(self, key, indexer, axis, raise_missing)\u001b[0m\n\u001b[1;32m   1644\u001b[0m             \u001b[0;32mif\u001b[0m \u001b[0;32mnot\u001b[0m \u001b[0;34m(\u001b[0m\u001b[0mself\u001b[0m\u001b[0;34m.\u001b[0m\u001b[0mname\u001b[0m \u001b[0;34m==\u001b[0m \u001b[0;34m\"loc\"\u001b[0m \u001b[0;32mand\u001b[0m \u001b[0;32mnot\u001b[0m \u001b[0mraise_missing\u001b[0m\u001b[0;34m)\u001b[0m\u001b[0;34m:\u001b[0m\u001b[0;34m\u001b[0m\u001b[0;34m\u001b[0m\u001b[0m\n\u001b[1;32m   1645\u001b[0m                 \u001b[0mnot_found\u001b[0m \u001b[0;34m=\u001b[0m \u001b[0mlist\u001b[0m\u001b[0;34m(\u001b[0m\u001b[0mset\u001b[0m\u001b[0;34m(\u001b[0m\u001b[0mkey\u001b[0m\u001b[0;34m)\u001b[0m \u001b[0;34m-\u001b[0m \u001b[0mset\u001b[0m\u001b[0;34m(\u001b[0m\u001b[0max\u001b[0m\u001b[0;34m)\u001b[0m\u001b[0;34m)\u001b[0m\u001b[0;34m\u001b[0m\u001b[0;34m\u001b[0m\u001b[0m\n\u001b[0;32m-> 1646\u001b[0;31m                 \u001b[0;32mraise\u001b[0m \u001b[0mKeyError\u001b[0m\u001b[0;34m(\u001b[0m\u001b[0;34mf\"{not_found} not in index\"\u001b[0m\u001b[0;34m)\u001b[0m\u001b[0;34m\u001b[0m\u001b[0;34m\u001b[0m\u001b[0m\n\u001b[0m\u001b[1;32m   1647\u001b[0m \u001b[0;34m\u001b[0m\u001b[0m\n\u001b[1;32m   1648\u001b[0m             \u001b[0;31m# we skip the warning on Categorical/Interval\u001b[0m\u001b[0;34m\u001b[0m\u001b[0;34m\u001b[0m\u001b[0;34m\u001b[0m\u001b[0m\n",
      "\u001b[0;31mKeyError\u001b[0m: \"['domestic_gross', 'foreign_gross'] not in index\""
     ]
    }
   ],
   "source": [
    "merge_df = merge_df[['primary_title', 'averagerating', 'numvotes', 'domestic_gross', 'foreign_gross']]\n",
    "merge_df['foreign_gross'] = merge_df['foreign_gross'].transform(lambda x : float(str(x).replace(',','')))\n",
    "merge_df['gross'] = merge_df ['domestic_gross'] + merge_df ['foreign_gross']\n",
    "merge_df.drop(['domestic_gross','foreign_gross'], axis = 1, inplace = True) \n",
    "\n",
    "#merging df and adding domestic and foreign income to create one total gross income for the movies\n",
    "\n"
   ]
  },
  {
   "cell_type": "code",
   "execution_count": 48,
   "metadata": {},
   "outputs": [
    {
     "data": {
      "text/html": [
       "<div>\n",
       "<style scoped>\n",
       "    .dataframe tbody tr th:only-of-type {\n",
       "        vertical-align: middle;\n",
       "    }\n",
       "\n",
       "    .dataframe tbody tr th {\n",
       "        vertical-align: top;\n",
       "    }\n",
       "\n",
       "    .dataframe thead th {\n",
       "        text-align: right;\n",
       "    }\n",
       "</style>\n",
       "<table border=\"1\" class=\"dataframe\">\n",
       "  <thead>\n",
       "    <tr style=\"text-align: right;\">\n",
       "      <th></th>\n",
       "      <th>primary_title</th>\n",
       "      <th>averagerating</th>\n",
       "      <th>numvotes</th>\n",
       "      <th>gross</th>\n",
       "    </tr>\n",
       "  </thead>\n",
       "  <tbody>\n",
       "    <tr>\n",
       "      <th>0</th>\n",
       "      <td>The Legend of Hercules</td>\n",
       "      <td>4.2</td>\n",
       "      <td>50352.0</td>\n",
       "      <td>61200000.0</td>\n",
       "    </tr>\n",
       "    <tr>\n",
       "      <th>1</th>\n",
       "      <td>Baggage Claim</td>\n",
       "      <td>5.1</td>\n",
       "      <td>8296.0</td>\n",
       "      <td>22487000.0</td>\n",
       "    </tr>\n",
       "    <tr>\n",
       "      <th>3</th>\n",
       "      <td>Moneyball</td>\n",
       "      <td>7.6</td>\n",
       "      <td>326657.0</td>\n",
       "      <td>110200000.0</td>\n",
       "    </tr>\n",
       "    <tr>\n",
       "      <th>4</th>\n",
       "      <td>Hereafter</td>\n",
       "      <td>6.5</td>\n",
       "      <td>87288.0</td>\n",
       "      <td>105200000.0</td>\n",
       "    </tr>\n",
       "    <tr>\n",
       "      <th>5</th>\n",
       "      <td>Mission: Impossible - Ghost Protocol</td>\n",
       "      <td>7.4</td>\n",
       "      <td>428142.0</td>\n",
       "      <td>694700000.0</td>\n",
       "    </tr>\n",
       "    <tr>\n",
       "      <th>...</th>\n",
       "      <td>...</td>\n",
       "      <td>...</td>\n",
       "      <td>...</td>\n",
       "      <td>...</td>\n",
       "    </tr>\n",
       "    <tr>\n",
       "      <th>3010</th>\n",
       "      <td>The Past</td>\n",
       "      <td>7.4</td>\n",
       "      <td>54.0</td>\n",
       "      <td>10600000.0</td>\n",
       "    </tr>\n",
       "    <tr>\n",
       "      <th>3014</th>\n",
       "      <td>Resident Evil: The Final Chapter</td>\n",
       "      <td>5.6</td>\n",
       "      <td>74979.0</td>\n",
       "      <td>312200000.0</td>\n",
       "    </tr>\n",
       "    <tr>\n",
       "      <th>3015</th>\n",
       "      <td>Game Night</td>\n",
       "      <td>7.0</td>\n",
       "      <td>163279.0</td>\n",
       "      <td>117700000.0</td>\n",
       "    </tr>\n",
       "    <tr>\n",
       "      <th>3021</th>\n",
       "      <td>Finding Fanny</td>\n",
       "      <td>5.8</td>\n",
       "      <td>5841.0</td>\n",
       "      <td>7716000.0</td>\n",
       "    </tr>\n",
       "    <tr>\n",
       "      <th>3025</th>\n",
       "      <td>Boy Erased</td>\n",
       "      <td>7.0</td>\n",
       "      <td>18768.0</td>\n",
       "      <td>11800000.0</td>\n",
       "    </tr>\n",
       "  </tbody>\n",
       "</table>\n",
       "<p>1810 rows × 4 columns</p>\n",
       "</div>"
      ],
      "text/plain": [
       "                             primary_title  averagerating  numvotes  \\\n",
       "0                   The Legend of Hercules            4.2   50352.0   \n",
       "1                            Baggage Claim            5.1    8296.0   \n",
       "3                                Moneyball            7.6  326657.0   \n",
       "4                                Hereafter            6.5   87288.0   \n",
       "5     Mission: Impossible - Ghost Protocol            7.4  428142.0   \n",
       "...                                    ...            ...       ...   \n",
       "3010                              The Past            7.4      54.0   \n",
       "3014      Resident Evil: The Final Chapter            5.6   74979.0   \n",
       "3015                            Game Night            7.0  163279.0   \n",
       "3021                         Finding Fanny            5.8    5841.0   \n",
       "3025                            Boy Erased            7.0   18768.0   \n",
       "\n",
       "            gross  \n",
       "0      61200000.0  \n",
       "1      22487000.0  \n",
       "3     110200000.0  \n",
       "4     105200000.0  \n",
       "5     694700000.0  \n",
       "...           ...  \n",
       "3010   10600000.0  \n",
       "3014  312200000.0  \n",
       "3015  117700000.0  \n",
       "3021    7716000.0  \n",
       "3025   11800000.0  \n",
       "\n",
       "[1810 rows x 4 columns]"
      ]
     },
     "execution_count": 48,
     "metadata": {},
     "output_type": "execute_result"
    }
   ],
   "source": [
    "merge_df.dropna(axis = 0, inplace = True)\n",
    "merge_df              #merged with important key variables for analysis "
   ]
  },
  {
   "cell_type": "code",
   "execution_count": 50,
   "metadata": {},
   "outputs": [
    {
     "data": {
      "text/html": [
       "<div>\n",
       "<style scoped>\n",
       "    .dataframe tbody tr th:only-of-type {\n",
       "        vertical-align: middle;\n",
       "    }\n",
       "\n",
       "    .dataframe tbody tr th {\n",
       "        vertical-align: top;\n",
       "    }\n",
       "\n",
       "    .dataframe thead th {\n",
       "        text-align: right;\n",
       "    }\n",
       "</style>\n",
       "<table border=\"1\" class=\"dataframe\">\n",
       "  <thead>\n",
       "    <tr style=\"text-align: right;\">\n",
       "      <th></th>\n",
       "      <th>averagerating</th>\n",
       "      <th>numvotes</th>\n",
       "      <th>gross</th>\n",
       "    </tr>\n",
       "  </thead>\n",
       "  <tbody>\n",
       "    <tr>\n",
       "      <th>count</th>\n",
       "      <td>1810.000000</td>\n",
       "      <td>1.810000e+03</td>\n",
       "      <td>1.810000e+03</td>\n",
       "    </tr>\n",
       "    <tr>\n",
       "      <th>mean</th>\n",
       "      <td>6.450055</td>\n",
       "      <td>9.461844e+04</td>\n",
       "      <td>1.287922e+08</td>\n",
       "    </tr>\n",
       "    <tr>\n",
       "      <th>std</th>\n",
       "      <td>1.011576</td>\n",
       "      <td>1.527801e+05</td>\n",
       "      <td>2.085336e+08</td>\n",
       "    </tr>\n",
       "    <tr>\n",
       "      <th>min</th>\n",
       "      <td>1.600000</td>\n",
       "      <td>5.000000e+00</td>\n",
       "      <td>1.080000e+04</td>\n",
       "    </tr>\n",
       "    <tr>\n",
       "      <th>25%</th>\n",
       "      <td>5.900000</td>\n",
       "      <td>5.288000e+03</td>\n",
       "      <td>1.001450e+07</td>\n",
       "    </tr>\n",
       "    <tr>\n",
       "      <th>50%</th>\n",
       "      <td>6.500000</td>\n",
       "      <td>3.793550e+04</td>\n",
       "      <td>4.813350e+07</td>\n",
       "    </tr>\n",
       "    <tr>\n",
       "      <th>75%</th>\n",
       "      <td>7.175000</td>\n",
       "      <td>1.136005e+05</td>\n",
       "      <td>1.489000e+08</td>\n",
       "    </tr>\n",
       "    <tr>\n",
       "      <th>max</th>\n",
       "      <td>9.200000</td>\n",
       "      <td>1.841066e+06</td>\n",
       "      <td>1.405400e+09</td>\n",
       "    </tr>\n",
       "  </tbody>\n",
       "</table>\n",
       "</div>"
      ],
      "text/plain": [
       "       averagerating      numvotes         gross\n",
       "count    1810.000000  1.810000e+03  1.810000e+03\n",
       "mean        6.450055  9.461844e+04  1.287922e+08\n",
       "std         1.011576  1.527801e+05  2.085336e+08\n",
       "min         1.600000  5.000000e+00  1.080000e+04\n",
       "25%         5.900000  5.288000e+03  1.001450e+07\n",
       "50%         6.500000  3.793550e+04  4.813350e+07\n",
       "75%         7.175000  1.136005e+05  1.489000e+08\n",
       "max         9.200000  1.841066e+06  1.405400e+09"
      ]
     },
     "execution_count": 50,
     "metadata": {},
     "output_type": "execute_result"
    }
   ],
   "source": [
    "merge_df.describe() #describes our merged model with descriptive statistics "
   ]
  },
  {
   "cell_type": "code",
   "execution_count": 52,
   "metadata": {},
   "outputs": [
    {
     "data": {
      "text/plain": [
       "<matplotlib.axes._subplots.AxesSubplot at 0x7ff15e6b80a0>"
      ]
     },
     "execution_count": 52,
     "metadata": {},
     "output_type": "execute_result"
    },
    {
     "data": {
      "image/png": "[encoded data removed]",
      "text/plain": [
       "<Figure size 432x288 with 1 Axes>"
      ]
     },
     "metadata": {
      "needs_background": "light"
     },
     "output_type": "display_data"
    }
   ],
   "source": [
    "merge_df['averagerating'].plot.hist()"
   ]
  },
  {
   "cell_type": "code",
   "execution_count": 61,
   "metadata": {},
   "outputs": [
    {
     "data": {
      "text/plain": [
       "0       False\n",
       "1       False\n",
       "3        True\n",
       "4        True\n",
       "5        True\n",
       "        ...  \n",
       "3010     True\n",
       "3014    False\n",
       "3015     True\n",
       "3021    False\n",
       "3025     True\n",
       "Name: averagerating, Length: 1810, dtype: bool"
      ]
     },
     "execution_count": 61,
     "metadata": {},
     "output_type": "execute_result"
    }
   ],
   "source": [
    "bool_array= merge_df['averagerating']>=6.5\n",
    "bool_array                                      \n",
    "\n",
    "#boolean function to pull the movies with the highest rating as per the histogram about >= 6.5 "
   ]
  },
  {
   "cell_type": "code",
   "execution_count": 75,
   "metadata": {},
   "outputs": [
    {
     "data": {
      "text/html": [
       "<div>\n",
       "<style scoped>\n",
       "    .dataframe tbody tr th:only-of-type {\n",
       "        vertical-align: middle;\n",
       "    }\n",
       "\n",
       "    .dataframe tbody tr th {\n",
       "        vertical-align: top;\n",
       "    }\n",
       "\n",
       "    .dataframe thead th {\n",
       "        text-align: right;\n",
       "    }\n",
       "</style>\n",
       "<table border=\"1\" class=\"dataframe\">\n",
       "  <thead>\n",
       "    <tr style=\"text-align: right;\">\n",
       "      <th></th>\n",
       "      <th>primary_title</th>\n",
       "      <th>original_title</th>\n",
       "      <th>start_year</th>\n",
       "      <th>runtime_minutes</th>\n",
       "      <th>genres</th>\n",
       "      <th>averagerating</th>\n",
       "      <th>numvotes</th>\n",
       "      <th>gross</th>\n",
       "    </tr>\n",
       "  </thead>\n",
       "  <tbody>\n",
       "    <tr>\n",
       "      <th>0</th>\n",
       "      <td>The Secret Life of Walter Mitty</td>\n",
       "      <td>The Secret Life of Walter Mitty</td>\n",
       "      <td>2013</td>\n",
       "      <td>114.0</td>\n",
       "      <td>Adventure,Comedy,Drama</td>\n",
       "      <td>7.3</td>\n",
       "      <td>275300.0</td>\n",
       "      <td>188100000.0</td>\n",
       "    </tr>\n",
       "    <tr>\n",
       "      <th>1</th>\n",
       "      <td>A Walk Among the Tombstones</td>\n",
       "      <td>A Walk Among the Tombstones</td>\n",
       "      <td>2014</td>\n",
       "      <td>114.0</td>\n",
       "      <td>Action,Crime,Drama</td>\n",
       "      <td>6.5</td>\n",
       "      <td>105116.0</td>\n",
       "      <td>53200000.0</td>\n",
       "    </tr>\n",
       "    <tr>\n",
       "      <th>2</th>\n",
       "      <td>Jurassic World</td>\n",
       "      <td>Jurassic World</td>\n",
       "      <td>2015</td>\n",
       "      <td>124.0</td>\n",
       "      <td>Action,Adventure,Sci-Fi</td>\n",
       "      <td>7.0</td>\n",
       "      <td>539338.0</td>\n",
       "      <td>652301019.4</td>\n",
       "    </tr>\n",
       "    <tr>\n",
       "      <th>3</th>\n",
       "      <td>Spy</td>\n",
       "      <td>Spy</td>\n",
       "      <td>2011</td>\n",
       "      <td>110.0</td>\n",
       "      <td>Action,Crime,Drama</td>\n",
       "      <td>7.0</td>\n",
       "      <td>213908.0</td>\n",
       "      <td>235600000.0</td>\n",
       "    </tr>\n",
       "    <tr>\n",
       "      <th>4</th>\n",
       "      <td>Spy</td>\n",
       "      <td>Spy</td>\n",
       "      <td>2011</td>\n",
       "      <td>110.0</td>\n",
       "      <td>Action,Crime,Drama</td>\n",
       "      <td>6.6</td>\n",
       "      <td>78.0</td>\n",
       "      <td>235600000.0</td>\n",
       "    </tr>\n",
       "    <tr>\n",
       "      <th>...</th>\n",
       "      <td>...</td>\n",
       "      <td>...</td>\n",
       "      <td>...</td>\n",
       "      <td>...</td>\n",
       "      <td>...</td>\n",
       "      <td>...</td>\n",
       "      <td>...</td>\n",
       "      <td>...</td>\n",
       "    </tr>\n",
       "    <tr>\n",
       "      <th>2170</th>\n",
       "      <td>Gold</td>\n",
       "      <td>Tala</td>\n",
       "      <td>2019</td>\n",
       "      <td>NaN</td>\n",
       "      <td>Drama</td>\n",
       "      <td>7.4</td>\n",
       "      <td>9361.0</td>\n",
       "      <td>14900000.0</td>\n",
       "    </tr>\n",
       "    <tr>\n",
       "      <th>2171</th>\n",
       "      <td>Unstoppable</td>\n",
       "      <td>Unstoppable</td>\n",
       "      <td>2019</td>\n",
       "      <td>84.0</td>\n",
       "      <td>Documentary</td>\n",
       "      <td>6.8</td>\n",
       "      <td>173019.0</td>\n",
       "      <td>167800000.0</td>\n",
       "    </tr>\n",
       "    <tr>\n",
       "      <th>2172</th>\n",
       "      <td>Unstoppable</td>\n",
       "      <td>Unstoppable</td>\n",
       "      <td>2019</td>\n",
       "      <td>84.0</td>\n",
       "      <td>Documentary</td>\n",
       "      <td>6.5</td>\n",
       "      <td>576.0</td>\n",
       "      <td>167800000.0</td>\n",
       "    </tr>\n",
       "    <tr>\n",
       "      <th>2173</th>\n",
       "      <td>Unstoppable</td>\n",
       "      <td>Unstoppable</td>\n",
       "      <td>2019</td>\n",
       "      <td>84.0</td>\n",
       "      <td>Documentary</td>\n",
       "      <td>4.3</td>\n",
       "      <td>551.0</td>\n",
       "      <td>167800000.0</td>\n",
       "    </tr>\n",
       "    <tr>\n",
       "      <th>2174</th>\n",
       "      <td>Unstoppable</td>\n",
       "      <td>Unstoppable</td>\n",
       "      <td>2019</td>\n",
       "      <td>84.0</td>\n",
       "      <td>Documentary</td>\n",
       "      <td>8.1</td>\n",
       "      <td>8.0</td>\n",
       "      <td>167800000.0</td>\n",
       "    </tr>\n",
       "  </tbody>\n",
       "</table>\n",
       "<p>2175 rows × 8 columns</p>\n",
       "</div>"
      ],
      "text/plain": [
       "                        primary_title                   original_title  \\\n",
       "0     The Secret Life of Walter Mitty  The Secret Life of Walter Mitty   \n",
       "1         A Walk Among the Tombstones      A Walk Among the Tombstones   \n",
       "2                      Jurassic World                   Jurassic World   \n",
       "3                                 Spy                              Spy   \n",
       "4                                 Spy                              Spy   \n",
       "...                               ...                              ...   \n",
       "2170                             Gold                             Tala   \n",
       "2171                      Unstoppable                      Unstoppable   \n",
       "2172                      Unstoppable                      Unstoppable   \n",
       "2173                      Unstoppable                      Unstoppable   \n",
       "2174                      Unstoppable                      Unstoppable   \n",
       "\n",
       "      start_year  runtime_minutes                   genres  averagerating  \\\n",
       "0           2013            114.0   Adventure,Comedy,Drama            7.3   \n",
       "1           2014            114.0       Action,Crime,Drama            6.5   \n",
       "2           2015            124.0  Action,Adventure,Sci-Fi            7.0   \n",
       "3           2011            110.0       Action,Crime,Drama            7.0   \n",
       "4           2011            110.0       Action,Crime,Drama            6.6   \n",
       "...          ...              ...                      ...            ...   \n",
       "2170        2019              NaN                    Drama            7.4   \n",
       "2171        2019             84.0              Documentary            6.8   \n",
       "2172        2019             84.0              Documentary            6.5   \n",
       "2173        2019             84.0              Documentary            4.3   \n",
       "2174        2019             84.0              Documentary            8.1   \n",
       "\n",
       "      numvotes        gross  \n",
       "0     275300.0  188100000.0  \n",
       "1     105116.0   53200000.0  \n",
       "2     539338.0  652301019.4  \n",
       "3     213908.0  235600000.0  \n",
       "4         78.0  235600000.0  \n",
       "...        ...          ...  \n",
       "2170    9361.0   14900000.0  \n",
       "2171  173019.0  167800000.0  \n",
       "2172     576.0  167800000.0  \n",
       "2173     551.0  167800000.0  \n",
       "2174       8.0  167800000.0  \n",
       "\n",
       "[2175 rows x 8 columns]"
      ]
     },
     "execution_count": 75,
     "metadata": {},
     "output_type": "execute_result"
    }
   ],
   "source": [
    "top_ratings= merge_df[bool_array]['primary_title']\n",
    "top_movies = df[df['primary_title'].isin(top_ratings)]\n",
    "top_movies_wrate= top_movies.merge(merge_df, how = 'left', on = 'primary_title')\n",
    "top_movies_wrate"
   ]
  },
  {
   "cell_type": "code",
   "execution_count": 69,
   "metadata": {},
   "outputs": [
    {
     "data": {
      "text/plain": [
       "2013.8052256532067"
      ]
     },
     "execution_count": 69,
     "metadata": {},
     "output_type": "execute_result"
    }
   ],
   "source": [
    "top_movies['start_year'].mean()    # mean average for start year for top movies "
   ]
  },
  {
   "cell_type": "code",
   "execution_count": 73,
   "metadata": {},
   "outputs": [
    {
     "data": {
      "text/plain": [
       "<matplotlib.image.AxesImage at 0x7ff15af8dca0>"
      ]
     },
     "execution_count": 73,
     "metadata": {},
     "output_type": "execute_result"
    },
    {
     "data": {
      "image/png": "[encoded data removed]",
      "text/plain": [
       "<Figure size 288x288 with 1 Axes>"
      ]
     },
     "metadata": {
      "needs_background": "light"
     },
     "output_type": "display_data"
    }
   ],
   "source": [
    "plt.matshow(merge_df.corr())     # analyzing the correlations between variables in notebook "
   ]
  },
  {
   "cell_type": "code",
   "execution_count": 77,
   "metadata": {
    "scrolled": true
   },
   "outputs": [
    {
     "data": {
      "text/plain": [
       "<matplotlib.collections.PathCollection at 0x7ff15aa46be0>"
      ]
     },
     "execution_count": 77,
     "metadata": {},
     "output_type": "execute_result"
    },
    {
     "data": {
      "image/png": "[encoded data removed]",
      "text/plain": [
       "<Figure size 432x288 with 1 Axes>"
      ]
     },
     "metadata": {
      "needs_background": "light"
     },
     "output_type": "display_data"
    }
   ],
   "source": [
    "fig, ax = plt.subplots()\n",
    "ax.scatter(top_movies_wrate['start_year'],top_movies_wrate['numvotes'])    \n",
    "\n",
    "#scatter plot showing num of votes and start year. As observed there is an outlier for num of votes in 2010. "
   ]
  },
  {
   "cell_type": "code",
   "execution_count": 40,
   "metadata": {
    "scrolled": true
   },
   "outputs": [
    {
     "data": {
      "text/plain": [
       "1"
      ]
     },
     "execution_count": 40,
     "metadata": {},
     "output_type": "execute_result"
    }
   ],
   "source": []
  },
  {
   "cell_type": "code",
   "execution_count": null,
   "metadata": {},
   "outputs": [],
   "source": []
  }
 ],
 "metadata": {
  "kernelspec": {
   "display_name": "Python 3",
   "language": "python",
   "name": "python3"
  },
  "language_info": {
   "codemirror_mode": {
    "name": "ipython",
    "version": 3
   },
   "file_extension": ".py",
   "mimetype": "text/x-python",
   "name": "python",
   "nbconvert_exporter": "python",
   "pygments_lexer": "ipython3",
   "version": "3.8.3"
  }
 },
 "nbformat": 4,
 "nbformat_minor": 4
}
